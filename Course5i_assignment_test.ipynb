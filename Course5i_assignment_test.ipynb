{
 "cells": [
  {
   "cell_type": "code",
   "execution_count": 2,
   "metadata": {},
   "outputs": [
    {
     "name": "stdout",
     "output_type": "stream",
     "text": [
      "Collecting selenium\n",
      "  Using cached https://files.pythonhosted.org/packages/80/d6/4294f0b4bce4de0abf13e17190289f9d0613b0a44e5dd6a7f5ca98459853/selenium-3.141.0-py2.py3-none-any.whl\n",
      "Requirement already satisfied: urllib3 in c:\\users\\ananya\\anaconda3\\lib\\site-packages (from selenium) (1.22)\n",
      "Installing collected packages: selenium\n",
      "Successfully installed selenium-3.141.0\n"
     ]
    },
    {
     "name": "stderr",
     "output_type": "stream",
     "text": [
      "distributed 1.21.8 requires msgpack, which is not installed.\n",
      "You are using pip version 10.0.1, however version 19.1.1 is available.\n",
      "You should consider upgrading via the 'python -m pip install --upgrade pip' command.\n"
     ]
    }
   ],
   "source": [
    "!pip install selenium"
   ]
  },
  {
   "cell_type": "code",
   "execution_count": 5,
   "metadata": {},
   "outputs": [],
   "source": [
    "import pandas as pd\n",
    "import bs4\n",
    "import selenium\n",
    "import requests\n",
    "from selenium import webdriver"
   ]
  },
  {
   "cell_type": "code",
   "execution_count": 98,
   "metadata": {},
   "outputs": [
    {
     "data": {
      "text/plain": [
       "'<html>\\r\\n<head><title>403 Forbidden</title></head>\\r\\n<body bgcolor=\"white\">\\r\\n<center><h1>403 Forbidden</h1></center>\\r\\n<hr><center>nginx</center>\\r\\n</body>\\r\\n</html>\\r\\n'"
      ]
     },
     "execution_count": 98,
     "metadata": {},
     "output_type": "execute_result"
    }
   ],
   "source": [
    "OnePlus_6T = \"http://tiny.cc/sck34y\"\n",
    "page = requests.get(OnePlus_6T).text\n",
    "page"
   ]
  },
  {
   "cell_type": "code",
   "execution_count": 99,
   "metadata": {},
   "outputs": [],
   "source": [
    "browser = webdriver.Chrome('chromedriver.exe')"
   ]
  },
  {
   "cell_type": "code",
   "execution_count": 100,
   "metadata": {},
   "outputs": [],
   "source": [
    "OnePlus_6T = \"http://tiny.cc/sck34y\"\n",
    "browser.get(OnePlus_6T)"
   ]
  },
  {
   "cell_type": "code",
   "execution_count": 101,
   "metadata": {},
   "outputs": [
    {
     "data": {
      "text/plain": [
       "1"
      ]
     },
     "execution_count": 101,
     "metadata": {},
     "output_type": "execute_result"
    }
   ],
   "source": [
    "products = browser.find_elements_by_css_selector('div#dp')\n",
    "len(products)"
   ]
  },
  {
   "cell_type": "code",
   "execution_count": 178,
   "metadata": {},
   "outputs": [
    {
     "data": {
      "text/html": [
       "<div>\n",
       "<style scoped>\n",
       "    .dataframe tbody tr th:only-of-type {\n",
       "        vertical-align: middle;\n",
       "    }\n",
       "\n",
       "    .dataframe tbody tr th {\n",
       "        vertical-align: top;\n",
       "    }\n",
       "\n",
       "    .dataframe thead th {\n",
       "        text-align: right;\n",
       "    }\n",
       "</style>\n",
       "<table border=\"1\" class=\"dataframe\">\n",
       "  <thead>\n",
       "    <tr style=\"text-align: right;\">\n",
       "      <th></th>\n",
       "      <th>Title</th>\n",
       "      <th>Description</th>\n",
       "      <th>Image</th>\n",
       "      <th>price_before_exchange</th>\n",
       "      <th>price_after_exchange</th>\n",
       "      <th>Product_Colours</th>\n",
       "      <th>No. of Reviews</th>\n",
       "      <th>Star_rating</th>\n",
       "      <th>Technical_Details</th>\n",
       "      <th>Reviews</th>\n",
       "    </tr>\n",
       "  </thead>\n",
       "  <tbody>\n",
       "    <tr>\n",
       "      <th>0</th>\n",
       "      <td>\\n                \\n                    \\n    ...</td>\n",
       "      <td>\\n          \\n            \\n            \\n    ...</td>\n",
       "      <td>\\n\\t            &lt;img alt=\"OnePlus 6T (Midnight...</td>\n",
       "      <td>&lt;span class=\"currencyINR\"&gt;&amp;nbsp;&amp;nbsp;&lt;/span&gt;...</td>\n",
       "      <td>&lt;span class=\"currencyINR\"&gt;&amp;nbsp;&amp;nbsp;&lt;/span&gt; ...</td>\n",
       "      <td>8+128 GB</td>\n",
       "      <td>15,564 customer reviews</td>\n",
       "      <td>4.5 out of 5 stars</td>\n",
       "      <td>OS Android\\nRAM 8 GB\\nItem Weight 186 g\\nProdu...</td>\n",
       "      <td>I got this phone on Friday evening.&lt;br&gt;&lt;br&gt;Pro...</td>\n",
       "    </tr>\n",
       "  </tbody>\n",
       "</table>\n",
       "</div>"
      ],
      "text/plain": [
       "                                               Title  \\\n",
       "0  \\n                \\n                    \\n    ...   \n",
       "\n",
       "                                         Description  \\\n",
       "0  \\n          \\n            \\n            \\n    ...   \n",
       "\n",
       "                                               Image  \\\n",
       "0  \\n\\t            <img alt=\"OnePlus 6T (Midnight...   \n",
       "\n",
       "                               price_before_exchange  \\\n",
       "0   <span class=\"currencyINR\">&nbsp;&nbsp;</span>...   \n",
       "\n",
       "                                price_after_exchange Product_Colours  \\\n",
       "0  <span class=\"currencyINR\">&nbsp;&nbsp;</span> ...        8+128 GB   \n",
       "\n",
       "            No. of Reviews         Star_rating  \\\n",
       "0  15,564 customer reviews  4.5 out of 5 stars   \n",
       "\n",
       "                                   Technical_Details  \\\n",
       "0  OS Android\\nRAM 8 GB\\nItem Weight 186 g\\nProdu...   \n",
       "\n",
       "                                             Reviews  \n",
       "0  I got this phone on Friday evening.<br><br>Pro...  "
      ]
     },
     "execution_count": 178,
     "metadata": {},
     "output_type": "execute_result"
    }
   ],
   "source": [
    "def get_info(oneplus, selector, attribute):\n",
    "    try:\n",
    "        tag = oneplus.find_element_by_css_selector(selector)\n",
    "        tag = tag.get_attribute(attribute)\n",
    "    except:\n",
    "        tag = None\n",
    "    return tag\n",
    "\n",
    "df_products = pd.DataFrame(columns = ['Title','Description','Image',\n",
    "                                      'price_before_exchange','price_after_exchange', \n",
    "                                      'Product_Colours','No. of Reviews','Star_rating',\n",
    "                                      'Technical_Details','Reviews'])\n",
    "for oneplus in products:\n",
    "    Title = get_info(oneplus, 'span.a-size-large','innerHTML')\n",
    "    \n",
    "    # get product description \n",
    "    Description_parent = oneplus.find_element_by_css_selector('div#productDescription')\n",
    "    Description = get_info(Description_parent,'div','innerHTML')  \n",
    "    \n",
    "    Image = get_info(oneplus,'div#imgTagWrapperId','innerHTML')\n",
    "    \n",
    "    price_before_exchange = get_info(oneplus, 'span.priceBlockStrikePriceString.a-text-strike','innerHTML')\n",
    "    \n",
    "    price_after_exchange = get_info(oneplus, 'span#priceblock_dealprice','innerHTML')\n",
    "    \n",
    "    Product_Colours = get_info(oneplus, 'span.selection','innerHTML')\n",
    "    #Product_Colours =oneplus.find_element_by_css_selector('span.selection').text \n",
    "    \n",
    "    No_of_Reviews = oneplus.find_element_by_css_selector('h2[data-hook=\"total-review-count\"]').text \n",
    "    \n",
    "    Star_rating = get_info(oneplus, 'span.a-icon-alt','innerHTML')\n",
    "    \n",
    "    Technical_Details = oneplus.find_element_by_css_selector('div.attrG').text\n",
    "    \n",
    "    #Most_Recent_100_Reviews = get_info(oneplus, 'span','innerHTML')\n",
    "    #Most_Recent_100_Reviews = oneplus.find_element_by_css_selector('div.data-hook').text\n",
    "    \n",
    "    reviews_parent = oneplus.find_element_by_css_selector('div.a-expander-content.reviewText.review-text-content.a-expander-partial-collapse-content')\n",
    "    reviews_child = reviews_parent.find_element_by_css_selector('span')\n",
    "    try:\n",
    "        reviews = reviews_child.find_element_by_css_selector('span')\n",
    "        reviews = reviews.get_attribute('innerHTML')\n",
    "    except:\n",
    "        reviews = reviews_child.get_attribute('innerHTML')\n",
    "    \n",
    "    curr_row = {\n",
    "        'Title': Title,\n",
    "        'Description': Description,\n",
    "        'Image': Image,\n",
    "        'price_before_exchange': price_before_exchange,\n",
    "        'price_after_exchange': price_after_exchange,\n",
    "        'Product_Colours': Product_Colours,\n",
    "        'No. of Reviews': No_of_Reviews,\n",
    "        'Star_rating': Star_rating,\n",
    "        'Technical_Details': Technical_Details,\n",
    "        'Reviews': reviews\n",
    "    }\n",
    "    df_products = df_products.append(curr_row,ignore_index = True)\n",
    "df_products"
   ]
  },
  {
   "cell_type": "code",
   "execution_count": 173,
   "metadata": {},
   "outputs": [],
   "source": [
    "df_products['Title'] = df_products['Title'].str.replace('[\\n ]', '')\n",
    "df_products['Description'] = df_products['Description'].str.replace('[\\n ]', '')\n",
    "df_products['Image'] = df_products['Image'].str.replace('[\\n\\t ]', '')\n",
    "df_products['Technical_Details'] = df_products['Technical_Details'].str.replace('[\\n]', '')\n",
    "df_products['Reviews'] = df_products['Reviews'].str.replace('[<br>]', '')"
   ]
  },
  {
   "cell_type": "code",
   "execution_count": 174,
   "metadata": {},
   "outputs": [],
   "source": [
    "df_products['price_after_exchange'] = df_products['price_after_exchange'].str.replace('[^0-9 ]', '')\n",
    "df_products['price_before_exchange'] = df_products['price_before_exchange'].str.replace('[^0-9 ]', '')"
   ]
  },
  {
   "cell_type": "code",
   "execution_count": 175,
   "metadata": {},
   "outputs": [
    {
     "data": {
      "text/html": [
       "<div>\n",
       "<style scoped>\n",
       "    .dataframe tbody tr th:only-of-type {\n",
       "        vertical-align: middle;\n",
       "    }\n",
       "\n",
       "    .dataframe tbody tr th {\n",
       "        vertical-align: top;\n",
       "    }\n",
       "\n",
       "    .dataframe thead th {\n",
       "        text-align: right;\n",
       "    }\n",
       "</style>\n",
       "<table border=\"1\" class=\"dataframe\">\n",
       "  <thead>\n",
       "    <tr style=\"text-align: right;\">\n",
       "      <th></th>\n",
       "      <th>Title</th>\n",
       "      <th>Description</th>\n",
       "      <th>Image</th>\n",
       "      <th>price_before_exchange</th>\n",
       "      <th>price_after_exchange</th>\n",
       "      <th>Product_Colours</th>\n",
       "      <th>No. of Reviews</th>\n",
       "      <th>Star_rating</th>\n",
       "      <th>Technical_Details</th>\n",
       "      <th>Reviews</th>\n",
       "    </tr>\n",
       "  </thead>\n",
       "  <tbody>\n",
       "    <tr>\n",
       "      <th>0</th>\n",
       "      <td>OnePlus6T(MidnightBlack,8GBRAM,128GBStorage)</td>\n",
       "      <td>Sizename:&lt;strong&gt;8+128GB&lt;/strong&gt;&amp;nbsp;|&amp;nbsp;...</td>\n",
       "      <td>&lt;imgalt=\"OnePlus6T(MidnightBlack,8GBRAM,128GBS...</td>\n",
       "      <td>4199900</td>\n",
       "      <td>3299900</td>\n",
       "      <td>8+128 GB</td>\n",
       "      <td>15,564 customer reviews</td>\n",
       "      <td>4.5 out of 5 stars</td>\n",
       "      <td>OS AndroidRAM 8 GBItem Weight 186 gProduct Dim...</td>\n",
       "      <td>I got this phone on Fiday evening.Pos:Geat att...</td>\n",
       "    </tr>\n",
       "  </tbody>\n",
       "</table>\n",
       "</div>"
      ],
      "text/plain": [
       "                                          Title  \\\n",
       "0  OnePlus6T(MidnightBlack,8GBRAM,128GBStorage)   \n",
       "\n",
       "                                         Description  \\\n",
       "0  Sizename:<strong>8+128GB</strong>&nbsp;|&nbsp;...   \n",
       "\n",
       "                                               Image price_before_exchange  \\\n",
       "0  <imgalt=\"OnePlus6T(MidnightBlack,8GBRAM,128GBS...               4199900   \n",
       "\n",
       "  price_after_exchange Product_Colours           No. of Reviews  \\\n",
       "0              3299900        8+128 GB  15,564 customer reviews   \n",
       "\n",
       "          Star_rating                                  Technical_Details  \\\n",
       "0  4.5 out of 5 stars  OS AndroidRAM 8 GBItem Weight 186 gProduct Dim...   \n",
       "\n",
       "                                             Reviews  \n",
       "0  I got this phone on Fiday evening.Pos:Geat att...  "
      ]
     },
     "execution_count": 175,
     "metadata": {},
     "output_type": "execute_result"
    }
   ],
   "source": [
    "df_products"
   ]
  },
  {
   "cell_type": "markdown",
   "metadata": {},
   "source": [
    "## Sentiment Analysis"
   ]
  },
  {
   "cell_type": "code",
   "execution_count": 179,
   "metadata": {},
   "outputs": [
    {
     "name": "stderr",
     "output_type": "stream",
     "text": [
      "C:\\Users\\Ananya\\Anaconda3\\lib\\site-packages\\nltk\\twitter\\__init__.py:20: UserWarning: The twython library has not been installed. Some functionality from the twitter package will not be available.\n",
      "  warnings.warn(\"The twython library has not been installed. \"\n"
     ]
    }
   ],
   "source": [
    "import nltk\n",
    "from nltk.sentiment import SentimentIntensityAnalyzer"
   ]
  },
  {
   "cell_type": "code",
   "execution_count": 180,
   "metadata": {},
   "outputs": [],
   "source": [
    "sentiment = SentimentIntensityAnalyzer()"
   ]
  },
  {
   "cell_type": "code",
   "execution_count": null,
   "metadata": {},
   "outputs": [],
   "source": []
  }
 ],
 "metadata": {
  "kernelspec": {
   "display_name": "Python 3",
   "language": "python",
   "name": "python3"
  },
  "language_info": {
   "codemirror_mode": {
    "name": "ipython",
    "version": 3
   },
   "file_extension": ".py",
   "mimetype": "text/x-python",
   "name": "python",
   "nbconvert_exporter": "python",
   "pygments_lexer": "ipython3",
   "version": "3.6.5"
  }
 },
 "nbformat": 4,
 "nbformat_minor": 2
}
